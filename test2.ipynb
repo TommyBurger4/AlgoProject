{
 "cells": [
  {
   "cell_type": "markdown",
   "id": "0d5ef12a",
   "metadata": {},
   "source": [
    "this is a test\n"
   ]
  }
 ],
 "metadata": {
  "language_info": {
   "name": "python"
  }
 },
 "nbformat": 4,
 "nbformat_minor": 5
}
