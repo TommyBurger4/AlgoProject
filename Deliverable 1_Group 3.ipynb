{
 "cells": [
  {
   "cell_type": "markdown",
   "id": "f34f7ca2",
   "metadata": {},
   "source": [
    "<img src=\"assets/logo.jpg\" alt=\"logo\" width=\"150\" height=\"80\">\n",
    "\n",
    "# <center>Deliverable 1 : Modeling deliverable<br/> Workshop</center>"
   ]
  },
  {
   "cell_type": "markdown",
   "id": "9d688590",
   "metadata": {},
   "source": [
    "# Introduction\n",
    "\n",
    "<div style=\"text-align: justify;\">\n",
    "Since the 90s, there has been a truly global awareness of the need to reduce energy consumption and greenhouse gas emissions. The first commitments emerged when the Kyoto Protocol was signed in 1997. However, this protocol only entered into force in 2005, and many scientists believed that the efforts to slow down global warming were not enough. Since then, other more ambitious commitments have seen the light of day (France’s commitment to a 75 % reduction in emissions by 2050, for example, commitments made by certain large cities such as Paris). But the task is complicated. The government and local authorities are unable to force companies and individuals to change their habits in order to meet these goals. Therefore, action is primarily focused on changing behaviour. Saving and recycling raw materials, improving means of transport and the energy performance of buildings should become priorities.\n",
    "</div>\n"
   ]
  },
  {
   "cell_type": "markdown",
   "id": "6c5585dd",
   "metadata": {},
   "source": [
    "# Who We Are and Our Mission\n",
    "\n",
    "<div style=\"text-align: justify;\">\n",
    "\n",
    "We are part of the CesiCDP team, a well-established structure in the field of smart multimodal mobility. We are responding to a recent call for expressions of interest launched by ADEME (French Environment and Energy Management Agency) to promote the execution of demos and experiments of new mobility solutions adapted to different kinds of territories.\n",
    "\n",
    "<center><img src=\"assets/map.gif\" alt=\"map\" width=\"300\" height=\"300\"></center>\n",
    "<div style=\"text-align: justify; line-height: 1.8; font-size: 15px;\">\n",
    "\n",
    "## The Mission\n",
    "\n",
    "Our mission is to develop innovative and sustainable solutions to optimize delivery management and freight transport. Although new transport technologies are more cost-effective and environmentally friendly, they present new challenges in terms of resource management optimization. These transport logistics problems represent a major challenge for the future: they can be applied to many fields such as mail distribution, product delivery, road network maintenance, and garbage collection. The environmental impact of these optimizations can be truly significant.\n",
    "\n",
    "## The Objective\n",
    "\n",
    "CesiCDP has decided to focus its study on the management of delivery routes. Our objective is to propose an Operations Research method capable of generating an optimal delivery route that allows us to:\n",
    "\n",
    "- **Connect a subset of cities on a road network**\n",
    "- **Return to the starting point**\n",
    "- **Minimize the total duration of the route** while taking into account the expected traffic on each axis for different time slots\n",
    "\n",
    "</div>\n",
    "</div>\n"
   ]
  },
  {
   "cell_type": "markdown",
   "id": "7c236cf7",
   "metadata": {},
   "source": [
    "<div style=\"text-align: justify;\">\n",
    "\n",
    "## Graph of the 10 largest French cities\n",
    "\n",
    "Here is a graph showing how the 10 largest French cities are connected to each other.\n",
    "\n",
    "</div>\n",
    "\n",
    "<center><img src=\"assets/graph.png\" alt=\"graph\" width=\"600\" height=\"600\"></center> </br>\n",
    "\n"
   ]
  },
  {
   "cell_type": "markdown",
   "id": "10cbe94f",
   "metadata": {},
   "source": [
    "# Formalize the problem\n",
    "\n",
    "<div style=\"text-align: justify;\">\n",
    "\n",
    "## Datas \n",
    "\n",
    "- n is the number of cities: V = {1, 2,..., n} (We will start with 10 cities)\n",
    "- k is the number of availables trucks \n",
    "- Ditance between two cities i and j: d_ij \n",
    "- We suppose that d_ii = 0 (no loops on itself)\n",
    "- Binary decision variables: x_ij ∈ {0,1} ∀ i,j equal to 1 if we go from i to j, otherwise 0.\n",
    "- Travel distances and durations of 10 cities:\n",
    "\n",
    "Distances between the cities (the most direct routes using the main highways (A1, A4, A6, A7, A75, A20, A10, etc.)) :\n",
    "<center><img src=\"assets/km.png\" alt=\"km\" width=\"800\" height=\"300\"></center> </br>\n",
    "\n",
    "Times (for a truck traveling at 100 km/h):\n",
    "<center><img src=\"assets/hours.png\" alt=\"hours\" width=\"800\" height=\"300\"></center> </br>\n",
    "\n",
    "Objective function : **Minimize the total distance and duration of the route or the return date of the last truck to ensure a complete tour passing through each vertex.**\n",
    "\n",
    "\n",
    "## Additonal constraints \n",
    "\n",
    "For this part, we had a whole list of constraints that we could add to our project:\n",
    "\n",
    "- **Delivery time slot for each item**\n",
    "\n",
    "    ⇒ No deliveries allowed beyond the time slot\n",
    "\n",
    "    ⇒ Waiting on site for the time slot to open is a possibility\n",
    "\n",
    "- **k trucks simultaneously available to make deliveries. The route calculation will have to include the allocation of items (and therefore the delivery points) to the different trucks available, and instead of minimising the total time, one should minimize the date when the last truck returns to base.**\n",
    "\n",
    "    ⇒ Truck capacity (2 or 3 dimensions) and item footprint\n",
    "\n",
    "    ⇒ Some items can only be delivered by certain trucks\n",
    "\n",
    "- **Each item has a specific collection point**\n",
    "\n",
    "- **The travel time of an edge varies over time (which is equivalent to varying its length), to represent the variation in traffic flow**\n",
    "\n",
    "These constraints can be divided into two categories:\n",
    "\n",
    "- **Constraints that do not change the space for solutions, only their values. For example, by taking into account time slots where waiting is required (if the truck is ahead of schedule). In the case of a neighbourhood-based method, the neighbours of a solution will not be changed by incorporating this constraint, only the costs will be different.**\n",
    "\n",
    "- **Constraints that change the space for solutions. For example, some items that require a specific type of truck for being delivered. Adding this constraint will render some solutions invalid, and consequently limit the space for solutions.**\n",
    "\n",
    "We therefore decided to incorporate the following constraints into our project: **Delivery time slot for each item** and **k trucks simultaneously available to make deliveries**.\n",
    "\n",
    "For time slots, we chose this constraint because it does not alter the structure of the graph, only the actual time cost (total tour duration), and it is a very realistic concept because it corresponds to real life (stores open at certain times, restricted access areas, etc.).\n",
    "\n",
    "For simultaneous trucks, we chose this constraint because it only requires introducing an additional decision variable to indicate which truck each point is assigned to. We move from a TSP (travelling Salesman Problem) to a VRP (Vehicle Routing Problem).\n",
    "The solution space increases, but the concept remains the same, which adds a little complexity.\n",
    "\n",
    "Moreover, we chose to represent the problem using metric and temporal data (as seen in the tables in the introduction) in order to subsequently find the shortest and fastest route between two cities.\n",
    "\n",
    "</div>"
   ]
  },
  {
   "cell_type": "markdown",
   "id": "588c590c",
   "metadata": {},
   "source": [
    "# Theoretical justification\n",
    "\n",
    "j'aime les hommes signe bonheur"
   ]
  },
  {
   "cell_type": "markdown",
   "id": "e8ec34e1",
   "metadata": {},
   "source": [
    "# Complexity study"
   ]
  },
  {
   "cell_type": "markdown",
   "id": "6ed716f1",
   "metadata": {},
   "source": [
    "# Mixed-Integer Linear Programming (MILP)\n",
    "\n",
    "## Objective functions\n",
    "\n",
    "<div style=\"text-align: justify;\">\n",
    "\n",
    "**Minimize the distance and total duration of the tour**\n",
    "\n",
    "\n",
    "\\begin{array}{rll}\n",
    "\\text{Minimize} & \\sum_{i=1}^{n} \\sum_{j=1}^{n} d_{ij} . x_{ij} & \\\n",
    "\\end{array}\n",
    "\n",
    "- We compose a double sum to enumerate all city pairs (i, j) where i ≠ j\n",
    "\n",
    "- Next, for each pair (i,j), we multiply the distance dij by the variable x_ij.\n",
    "\n",
    "- If x_ij = 1, this means that the route goes from city i to city j, so the cost d_ij is counted in the total sum. Otherwise, if x_ij = 0, then dij is multiplied by 0 and ignored.\n",
    "\n",
    "Finally, the objective is to minimize the distances traveled by ensuring that each city is visited only once and that we return to the starting point.\n",
    "\n",
    "</div>\n",
    "\n",
    "## Constraints"
   ]
  }
 ],
 "metadata": {
  "language_info": {
   "name": "python"
  }
 },
 "nbformat": 4,
 "nbformat_minor": 5
}
