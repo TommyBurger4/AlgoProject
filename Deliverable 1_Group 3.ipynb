{
 "cells": [
  {
   "cell_type": "markdown",
   "id": "f34f7ca2",
   "metadata": {},
   "source": [
    "<img src=\"assets/logo.jpg\" alt=\"logo\" width=\"150\" height=\"80\">\n",
    "\n",
    "# <center>Deliverable 1 : Modeling deliverable<br/> Workshop</center>"
   ]
  },
  {
   "cell_type": "markdown",
   "id": "9d688590",
   "metadata": {},
   "source": [
    "# Introduction\n",
    "\n",
    "<div style=\"text-align: justify;\">\n",
    "Since the 90s, there has been a truly global awareness of the need to reduce energy consumption and greenhouse gas emissions. The first commitments emerged when the Kyoto Protocol was signed in 1997. However, this protocol only entered into force in 2005, and many scientists believed that the efforts to slow down global warming were not enough. Since then, other more ambitious commitments have seen the light of day (France’s commitment to a 75 % reduction in emissions by 2050, for example, commitments made by certain large cities such as Paris). But the task is complicated. The government and local authorities are unable to force companies and individuals to change their habits in order to meet these goals. Therefore, action is primarily focused on changing behaviour. Saving and recycling raw materials, improving means of transport and the energy performance of buildings should become priorities.\n",
    "</div>\n"
   ]
  },
  {
   "cell_type": "markdown",
   "id": "6c5585dd",
   "metadata": {},
   "source": [
    "# Who We Are and Our Mission\n",
    "\n",
    "<div style=\"text-align: justify; line-height: 1.8; font-size: 15px;\">\n",
    "\n",
    "We are part of the CesiCDP team, a well-established structure in the field of smart multimodal mobility. We are responding to a recent call for expressions of interest launched by ADEME (French Environment and Energy Management Agency) to promote the execution of demos and experiments of new mobility solutions adapted to different kinds of territories.\n",
    "\n",
    "<center><img src=\"assets/map.gif\" alt=\"map\" width=\"300\" height=\"300\"></center>\n",
    "<div style=\"text-align: justify; line-height: 1.8; font-size: 15px;\">\n",
    "\n",
    "## The Mission\n",
    "\n",
    "Our mission is to develop innovative and sustainable solutions to optimize delivery management and freight transport. Although new transport technologies are more cost-effective and environmentally friendly, they present new challenges in terms of resource management optimization. These transport logistics problems represent a major challenge for the future: they can be applied to many fields such as mail distribution, product delivery, road network maintenance, and garbage collection. The environmental impact of these optimizations can be truly significant.\n",
    "\n",
    "## The Objective\n",
    "\n",
    "CesiCDP has decided to focus its study on the management of delivery routes. Our objective is to propose an Operations Research method capable of generating an optimal delivery route that allows us to:\n",
    "\n",
    "- **Connect a subset of cities on a road network**\n",
    "- **Return to the starting point**\n",
    "- **Minimize the total duration of the route** while taking into account the expected traffic on each axis for different time slots\n",
    "\n",
    "</div>\n",
    "</div>\n"
   ]
  },
  {
   "cell_type": "markdown",
   "id": "7c236cf7",
   "metadata": {},
   "source": [
    "<center><img src=\"assets/graph.png\" alt=\"rraph\" width=\"300\" height=\"300\"></center>"
   ]
  }
 ],
 "metadata": {
  "language_info": {
   "name": "python"
  }
 },
 "nbformat": 4,
 "nbformat_minor": 5
}
