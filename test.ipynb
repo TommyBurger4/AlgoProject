{
 "cells": [
  {
   "cell_type": "markdown",
   "id": "e2b3a2f3",
   "metadata": {},
   "source": [
    "It is a test"
   ]
  },
  {
   "cell_type": "markdown",
   "id": "8a8cbea8",
   "metadata": {},
   "source": []
  }
 ],
 "metadata": {
  "language_info": {
   "name": "python"
  }
 },
 "nbformat": 4,
 "nbformat_minor": 5
}
