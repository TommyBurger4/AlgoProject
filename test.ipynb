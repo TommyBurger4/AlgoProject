{
 "cells": [
  {
   "cell_type": "markdown",
   "id": "e2b3a2f3",
   "metadata": {},
   "source": [
    "It is a test"
   ]
  },
  {
   "cell_type": "code",
   "execution_count": null,
   "id": "788b9855",
   "metadata": {
    "vscode": {
     "languageId": "plaintext"
    }
   },
   "outputs": [],
   "source": [
    "test"
   ]
  }
 ],
 "metadata": {
  "language_info": {
   "name": "python"
  }
 },
 "nbformat": 4,
 "nbformat_minor": 5
}
